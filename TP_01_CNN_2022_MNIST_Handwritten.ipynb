{
  "nbformat": 4,
  "nbformat_minor": 0,
  "metadata": {
    "colab": {
      "name": "TP 01 - CNN 2022 MNIST Handwritten.ipynb",
      "provenance": [],
      "collapsed_sections": [],
      "authorship_tag": "ABX9TyM2x/MtHy7QgJs5AyIbLzZd",
      "include_colab_link": true
    },
    "kernelspec": {
      "display_name": "Python 3",
      "name": "python3"
    },
    "language_info": {
      "name": "python"
    }
  },
  "cells": [
    {
      "cell_type": "markdown",
      "metadata": {
        "id": "view-in-github",
        "colab_type": "text"
      },
      "source": [
        "<a href=\"https://colab.research.google.com/github/XMad0/Python/blob/master/TP_01_CNN_2022_MNIST_Handwritten.ipynb\" target=\"_parent\"><img src=\"https://colab.research.google.com/assets/colab-badge.svg\" alt=\"Open In Colab\"/></a>"
      ]
    },
    {
      "cell_type": "markdown",
      "metadata": {
        "id": "_0iyVhokfdow"
      },
      "source": [
        "# *** TP 01 - CNN 2022 MNIST Handwritten *** "
      ]
    },
    {
      "cell_type": "markdown",
      "metadata": {
        "id": "GFBVrIWZf1Du"
      },
      "source": [
        "# **Par Bellaouar Mahmoud - Ghardaia**\n"
      ]
    },
    {
      "cell_type": "markdown",
      "metadata": {
        "id": "f9iY3Jc4s1Fp"
      },
      "source": [
        "# *Importer des bibliothèques*"
      ]
    },
    {
      "cell_type": "code",
      "metadata": {
        "id": "Cm6oiOVYgORC"
      },
      "source": [
        "import numpy as np\n",
        "import tensorflow as tf\n",
        "import matplotlib.pyplot as plt\n",
        "from tensorflow.keras.datasets.mnist import load_data\n",
        "from keras.models import Sequential\n",
        "from keras.layers import Dense\n",
        "from keras.layers import Dropout\n",
        "from keras.layers import Flatten\n",
        "from keras.layers import Conv2D\n",
        "from keras.layers import MaxPooling2D\n",
        "#from numpy import unique,argmax\n",
        "#from tensorflow.keras import datasets, layers, models"
      ],
      "execution_count": 1,
      "outputs": []
    },
    {
      "cell_type": "code",
      "metadata": {
        "id": "k-KVgD6EgzE_",
        "colab": {
          "base_uri": "https://localhost:8080/"
        },
        "outputId": "41627ea4-a386-4247-cb89-43c4ea54d7c7"
      },
      "source": [
        "# upload Handwritten data set\n",
        "#(x_train, y_train), (x_test, y_test) = tf.keras.datasets.mnist.load_data()\n",
        "\n",
        "(x_train, y_train), (x_test, y_test) = load_data()\n",
        "x_train = x_train.reshape(x_train.shape[0],x_train.shape[1],x_train.shape[2],1)\n",
        "x_test = x_test.reshape(x_test.shape[0],x_test.shape[1],x_test.shape[2],1)"
      ],
      "execution_count": 2,
      "outputs": [
        {
          "output_type": "stream",
          "name": "stdout",
          "text": [
            "Downloading data from https://storage.googleapis.com/tensorflow/tf-keras-datasets/mnist.npz\n",
            "11493376/11490434 [==============================] - 0s 0us/step\n",
            "11501568/11490434 [==============================] - 0s 0us/step\n"
          ]
        }
      ]
    },
    {
      "cell_type": "code",
      "metadata": {
        "id": "vV9lPysMeVR4"
      },
      "source": [
        "#Normalistation la valeur de pixels des images\n",
        "x_train = x_train.astype(\"float32\")/255.0\n",
        "x_test = x_test.astype(\"float32\")/255.0 "
      ],
      "execution_count": 3,
      "outputs": []
    },
    {
      "cell_type": "code",
      "metadata": {
        "colab": {
          "base_uri": "https://localhost:8080/",
          "height": 92
        },
        "id": "jGuxzFEjgCf1",
        "outputId": "c3ef8ec4-12e0-44b9-df87-9d95261aa806"
      },
      "source": [
        "figure = plt.figure(figsize=(5,5))\n",
        "print(y_train[0:9])\n",
        "for i in range(10):\n",
        "  a = figure.add_subplot(1,10,i+1,xticks=[],yticks=[])\n",
        "  a.imshow(np.squeeze(x_train[i]),cmap='gray')\n",
        "  a.set_title(y_train[i])  "
      ],
      "execution_count": 4,
      "outputs": [
        {
          "output_type": "stream",
          "name": "stdout",
          "text": [
            "[5 0 4 1 9 2 1 3 1]\n"
          ]
        },
        {
          "output_type": "display_data",
          "data": {
            "image/png": "[encoded data removed]",
            "text/plain": [
              "<Figure size 360x360 with 10 Axes>"
            ]
          },
          "metadata": {}
        }
      ]
    },
    {
      "cell_type": "code",
      "metadata": {
        "colab": {
          "base_uri": "https://localhost:8080/"
        },
        "id": "ojXfu1aPipX2",
        "outputId": "1ee8f1b7-0975-45fa-8f36-a23c167f4861"
      },
      "source": [
        "img_shape = x_train.shape[1:]\n",
        "print(img_shape)"
      ],
      "execution_count": 5,
      "outputs": [
        {
          "output_type": "stream",
          "name": "stdout",
          "text": [
            "(28, 28, 1)\n"
          ]
        }
      ]
    },
    {
      "cell_type": "code",
      "metadata": {
        "colab": {
          "base_uri": "https://localhost:8080/"
        },
        "id": "GcGcls2FjIrY",
        "outputId": "875cca75-683d-432f-8b36-066282bcbca3"
      },
      "source": [
        "# Define le model\n",
        "model = Sequential()\n",
        "\n",
        "model.add(Conv2D(32, (3,3),activation='relu', input_shape=(28,28,1))) \n",
        "model.add(MaxPooling2D(pool_size=2))\n",
        "model.add(Conv2D(48, (3,3),activation='relu'))\n",
        "model.add(MaxPooling2D(2,2))\n",
        "model.add(Dropout(0.5))\n",
        "\n",
        "model.add(Flatten())\n",
        "model.add(Dense(500, activation='relu'))\n",
        "model.add(Dense(10, activation='softmax'))\n",
        "\n",
        "# print summary\n",
        "model.summary()"
      ],
      "execution_count": 6,
      "outputs": [
        {
          "output_type": "stream",
          "name": "stdout",
          "text": [
            "Model: \"sequential\"\n",
            "_________________________________________________________________\n",
            "Layer (type)                 Output Shape              Param #   \n",
            "=================================================================\n",
            "conv2d (Conv2D)              (None, 26, 26, 32)        320       \n",
            "_________________________________________________________________\n",
            "max_pooling2d (MaxPooling2D) (None, 13, 13, 32)        0         \n",
            "_________________________________________________________________\n",
            "conv2d_1 (Conv2D)            (None, 11, 11, 48)        13872     \n",
            "_________________________________________________________________\n",
            "max_pooling2d_1 (MaxPooling2 (None, 5, 5, 48)          0         \n",
            "_________________________________________________________________\n",
            "dropout (Dropout)            (None, 5, 5, 48)          0         \n",
            "_________________________________________________________________\n",
            "flatten (Flatten)            (None, 1200)              0         \n",
            "_________________________________________________________________\n",
            "dense (Dense)                (None, 500)               600500    \n",
            "_________________________________________________________________\n",
            "dense_1 (Dense)              (None, 10)                5010      \n",
            "=================================================================\n",
            "Total params: 619,702\n",
            "Trainable params: 619,702\n",
            "Non-trainable params: 0\n",
            "_________________________________________________________________\n"
          ]
        }
      ]
    },
    {
      "cell_type": "code",
      "metadata": {
        "colab": {
          "base_uri": "https://localhost:8080/"
        },
        "id": "Wbmhgl4EnZVB",
        "outputId": "b78b0b34-6b8e-4c9c-8657-48808f9c2fc4"
      },
      "source": [
        "#model.compile(optimizer='adam',loss='sparse_categorical_crossentropy',metrics=['accuracy'])\n",
        "#x = model.fit(x_train,y_train,epochs=5,batch_size=32,verbose=2,validation_split=0.1)\n",
        "\n",
        "#model.compile(optimizer='adam',loss=tf.keras.losses.SparseCategoricalCrossentropy,metrics=['accuracy'])\n",
        "#history = model.fit(x_train, y_train, epochs=5,batch_size=32,verbose=2,validation_data=(x_test, y_test))\n",
        "\n",
        "#Training of the model\n",
        "from keras.callbacks import ModelCheckpoint\n",
        "checkpointer = ModelCheckpoint(filepath='model_best_weights.hdf5', verbose = 1, save_best_only=True)\n",
        "history = model.fit(x_train, y_train,batch_size=32,epochs=5,validation_data=(x_test, y_test),callbacks=[checkpointer])"
      ],
      "execution_count": 21,
      "outputs": [
        {
          "output_type": "stream",
          "name": "stdout",
          "text": [
            "Epoch 1/5\n",
            "1875/1875 [==============================] - 60s 32ms/step - loss: 0.0292 - accuracy: 0.9906 - val_loss: 0.0277 - val_accuracy: 0.9909\n",
            "\n",
            "Epoch 00001: val_loss improved from inf to 0.02772, saving model to model_best_weights.hdf5\n",
            "Epoch 2/5\n",
            "1875/1875 [==============================] - 60s 32ms/step - loss: 0.0288 - accuracy: 0.9911 - val_loss: 0.0198 - val_accuracy: 0.9941\n",
            "\n",
            "Epoch 00002: val_loss improved from 0.02772 to 0.01985, saving model to model_best_weights.hdf5\n",
            "Epoch 3/5\n",
            "1875/1875 [==============================] - 60s 32ms/step - loss: 0.0244 - accuracy: 0.9919 - val_loss: 0.0241 - val_accuracy: 0.9924\n",
            "\n",
            "Epoch 00003: val_loss did not improve from 0.01985\n",
            "Epoch 4/5\n",
            "1875/1875 [==============================] - 60s 32ms/step - loss: 0.0225 - accuracy: 0.9925 - val_loss: 0.0197 - val_accuracy: 0.9938\n",
            "\n",
            "Epoch 00004: val_loss improved from 0.01985 to 0.01967, saving model to model_best_weights.hdf5\n",
            "Epoch 5/5\n",
            "1875/1875 [==============================] - 60s 32ms/step - loss: 0.0202 - accuracy: 0.9931 - val_loss: 0.0220 - val_accuracy: 0.9927\n",
            "\n",
            "Epoch 00005: val_loss did not improve from 0.01967\n"
          ]
        }
      ]
    },
    {
      "cell_type": "code",
      "metadata": {
        "colab": {
          "base_uri": "https://localhost:8080/"
        },
        "id": "65Tz170lrKCm",
        "outputId": "caa5449e-c3d0-4237-9176-2bc0f8d7f1ea"
      },
      "source": [
        "loss,accuracy = model.evaluate(x_test,y_test,verbose = 0)\n",
        "print(f'Accuracy est : {100*accuracy:4.2f} % 100')\n",
        "print(f'Test loss :{loss:4.4f}')\n",
        "print(f'Test Accuracy {accuracy:4.4f}')"
      ],
      "execution_count": 22,
      "outputs": [
        {
          "output_type": "stream",
          "name": "stdout",
          "text": [
            "Accuracy est : 99.27 % 100\n",
            "Test loss :0.0220\n",
            "Test Accuracy 0.9927\n"
          ]
        }
      ]
    },
    {
      "cell_type": "code",
      "metadata": {
        "colab": {
          "base_uri": "https://localhost:8080/",
          "height": 283
        },
        "id": "77hvzNeAr9KP",
        "outputId": "7a47acda-a691-40f6-e014-5c4d31af9c51"
      },
      "source": [
        "print(\"Test le modele\")\n",
        "image = x_train[2]\n",
        "plt.imshow(np.squeeze(image),cmap = 'gray')\n",
        "plt.show()"
      ],
      "execution_count": 23,
      "outputs": [
        {
          "output_type": "stream",
          "name": "stdout",
          "text": [
            "Test le modele\n"
          ]
        },
        {
          "output_type": "display_data",
          "data": {
            "image/png": "[encoded data removed]",
            "text/plain": [
              "<Figure size 432x288 with 1 Axes>"
            ]
          },
          "metadata": {
            "needs_background": "light"
          }
        }
      ]
    },
    {
      "cell_type": "code",
      "metadata": {
        "id": "ogrRwpicsDHg",
        "colab": {
          "base_uri": "https://localhost:8080/"
        },
        "outputId": "9026e5ea-59f0-4f4e-979a-4246bdbd30c9"
      },
      "source": [
        "image = image.reshape(1,image.shape[0],image.shape[1],image.shape[2])\n",
        "p = model.predict([image])\n",
        "print(f'Prediction est : {np.argmax(p)}')"
      ],
      "execution_count": 24,
      "outputs": [
        {
          "output_type": "stream",
          "name": "stdout",
          "text": [
            "Prediction est : 4\n"
          ]
        }
      ]
    },
    {
      "cell_type": "markdown",
      "metadata": {
        "id": "Neoic9YcoexK"
      },
      "source": [
        "# Conclusion : \n",
        "\n",
        "**Les prédicition été très excellent**\n",
        "\n",
        "**le taux d'erreur est très faible** ***car*** :\n",
        "\n",
        "\n",
        "> **Existe un seul niveau d'image**\n",
        "\n",
        "> **Numéro de paramètre élevé**\n",
        "\n",
        "> **Nombre de filtres dans chacun convolution**"
      ]
    }
  ]
}